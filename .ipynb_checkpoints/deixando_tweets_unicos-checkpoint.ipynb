{
 "cells": [
  {
   "cell_type": "code",
   "execution_count": 13,
   "id": "72e57e9c",
   "metadata": {},
   "outputs": [],
   "source": [
    "import pandas as pd\n",
    "df = pd.read_csv('tweets_ofensivos_pre_limpos.csv', usecols=['text'])"
   ]
  },
  {
   "cell_type": "code",
   "execution_count": 14,
   "id": "3922833c",
   "metadata": {},
   "outputs": [
    {
     "data": {
      "text/html": [
       "<div>\n",
       "<style scoped>\n",
       "    .dataframe tbody tr th:only-of-type {\n",
       "        vertical-align: middle;\n",
       "    }\n",
       "\n",
       "    .dataframe tbody tr th {\n",
       "        vertical-align: top;\n",
       "    }\n",
       "\n",
       "    .dataframe thead th {\n",
       "        text-align: right;\n",
       "    }\n",
       "</style>\n",
       "<table border=\"1\" class=\"dataframe\">\n",
       "  <thead>\n",
       "    <tr style=\"text-align: right;\">\n",
       "      <th></th>\n",
       "      <th>text</th>\n",
       "    </tr>\n",
       "  </thead>\n",
       "  <tbody>\n",
       "    <tr>\n",
       "      <th>0</th>\n",
       "      <td>RT @MariaMa59879065: A TVI ficava melhor se ti...</td>\n",
       "    </tr>\n",
       "    <tr>\n",
       "      <th>1</th>\n",
       "      <td>RT @brussel_ive: @cirogomes Com esse seu discu...</td>\n",
       "    </tr>\n",
       "    <tr>\n",
       "      <th>2</th>\n",
       "      <td>RT @brussel_ive: @cirogomes Com esse seu discu...</td>\n",
       "    </tr>\n",
       "    <tr>\n",
       "      <th>3</th>\n",
       "      <td>=))))) mang trong mình dòng máu Lạc Hồng nó ph...</td>\n",
       "    </tr>\n",
       "    <tr>\n",
       "      <th>4</th>\n",
       "      <td>tomamo mas no cu</td>\n",
       "    </tr>\n",
       "  </tbody>\n",
       "</table>\n",
       "</div>"
      ],
      "text/plain": [
       "                                                text\n",
       "0  RT @MariaMa59879065: A TVI ficava melhor se ti...\n",
       "1  RT @brussel_ive: @cirogomes Com esse seu discu...\n",
       "2  RT @brussel_ive: @cirogomes Com esse seu discu...\n",
       "3  =))))) mang trong mình dòng máu Lạc Hồng nó ph...\n",
       "4                                   tomamo mas no cu"
      ]
     },
     "execution_count": 14,
     "metadata": {},
     "output_type": "execute_result"
    }
   ],
   "source": [
    "df.head()"
   ]
  },
  {
   "cell_type": "code",
   "execution_count": 15,
   "id": "2f2a5a31",
   "metadata": {},
   "outputs": [
    {
     "data": {
      "text/plain": [
       "text    7595\n",
       "dtype: int64"
      ]
     },
     "execution_count": 15,
     "metadata": {},
     "output_type": "execute_result"
    }
   ],
   "source": [
    "df.count()"
   ]
  },
  {
   "cell_type": "code",
   "execution_count": 16,
   "id": "1f705f96",
   "metadata": {},
   "outputs": [],
   "source": [
    "df = df.drop_duplicates()"
   ]
  },
  {
   "cell_type": "code",
   "execution_count": 17,
   "id": "a659572f",
   "metadata": {},
   "outputs": [],
   "source": [
    "df.count()\n",
    "df.to_csv('tweets_ofensivos_sem_repeticao.csv', index=False)"
   ]
  },
  {
   "cell_type": "code",
   "execution_count": 30,
   "id": "35c75063",
   "metadata": {},
   "outputs": [],
   "source": [
    "df3 = pd.read_csv('tweets_neutros3.csv', usecols=['text'])"
   ]
  },
  {
   "cell_type": "code",
   "execution_count": 31,
   "id": "57d83658",
   "metadata": {},
   "outputs": [
    {
     "data": {
      "text/plain": [
       "text    3175\n",
       "dtype: int64"
      ]
     },
     "execution_count": 31,
     "metadata": {},
     "output_type": "execute_result"
    }
   ],
   "source": [
    "df3.count()"
   ]
  },
  {
   "cell_type": "code",
   "execution_count": 32,
   "id": "b679fd83",
   "metadata": {},
   "outputs": [],
   "source": [
    "df3 = df.drop_duplicates()"
   ]
  },
  {
   "cell_type": "code",
   "execution_count": 33,
   "id": "d8181919",
   "metadata": {},
   "outputs": [
    {
     "data": {
      "text/plain": [
       "text    2360\n",
       "dtype: int64"
      ]
     },
     "execution_count": 33,
     "metadata": {},
     "output_type": "execute_result"
    }
   ],
   "source": [
    "df3.count()"
   ]
  },
  {
   "cell_type": "code",
   "execution_count": null,
   "id": "9c5dbefd",
   "metadata": {},
   "outputs": [],
   "source": []
  },
  {
   "cell_type": "code",
   "execution_count": 34,
   "id": "af420aad",
   "metadata": {},
   "outputs": [],
   "source": [
    "df2 = pd.read_csv('tweets_neutros2.csv', usecols=['text'])"
   ]
  },
  {
   "cell_type": "code",
   "execution_count": 35,
   "id": "2d83e309",
   "metadata": {},
   "outputs": [
    {
     "data": {
      "text/plain": [
       "text    2362\n",
       "dtype: int64"
      ]
     },
     "execution_count": 35,
     "metadata": {},
     "output_type": "execute_result"
    }
   ],
   "source": [
    "df2.count()"
   ]
  },
  {
   "cell_type": "code",
   "execution_count": 36,
   "id": "9f347f10",
   "metadata": {},
   "outputs": [],
   "source": [
    "df2 = df2.drop_duplicates()"
   ]
  },
  {
   "cell_type": "code",
   "execution_count": 37,
   "id": "230891fe",
   "metadata": {},
   "outputs": [
    {
     "data": {
      "text/plain": [
       "text    2360\n",
       "dtype: int64"
      ]
     },
     "execution_count": 37,
     "metadata": {},
     "output_type": "execute_result"
    }
   ],
   "source": [
    "df2.count()"
   ]
  },
  {
   "cell_type": "code",
   "execution_count": 40,
   "id": "bcd3ae1e",
   "metadata": {},
   "outputs": [],
   "source": [
    "dfs = pd.concat([df2,df3],axis=0)"
   ]
  },
  {
   "cell_type": "code",
   "execution_count": 41,
   "id": "4df3c452",
   "metadata": {},
   "outputs": [
    {
     "data": {
      "text/plain": [
       "text    4720\n",
       "dtype: int64"
      ]
     },
     "execution_count": 41,
     "metadata": {},
     "output_type": "execute_result"
    }
   ],
   "source": [
    "dfs.count()"
   ]
  },
  {
   "cell_type": "code",
   "execution_count": null,
   "id": "abb051a8",
   "metadata": {},
   "outputs": [],
   "source": []
  }
 ],
 "metadata": {
  "kernelspec": {
   "display_name": "Python 3",
   "language": "python",
   "name": "python3"
  },
  "language_info": {
   "codemirror_mode": {
    "name": "ipython",
    "version": 3
   },
   "file_extension": ".py",
   "mimetype": "text/x-python",
   "name": "python",
   "nbconvert_exporter": "python",
   "pygments_lexer": "ipython3",
   "version": "3.8.8"
  }
 },
 "nbformat": 4,
 "nbformat_minor": 5
}
