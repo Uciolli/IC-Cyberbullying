{
 "cells": [
  {
   "cell_type": "code",
   "execution_count": 20,
   "id": "66839242",
   "metadata": {},
   "outputs": [],
   "source": [
    "import pandas as pd\n",
    "df_neutro = pd.read_csv('tweets_neutros_finais_com_coisa2.csv')"
   ]
  },
  {
   "cell_type": "code",
   "execution_count": 21,
   "id": "d42e78f8",
   "metadata": {},
   "outputs": [
    {
     "data": {
      "text/html": [
       "<div>\n",
       "<style scoped>\n",
       "    .dataframe tbody tr th:only-of-type {\n",
       "        vertical-align: middle;\n",
       "    }\n",
       "\n",
       "    .dataframe tbody tr th {\n",
       "        vertical-align: top;\n",
       "    }\n",
       "\n",
       "    .dataframe thead th {\n",
       "        text-align: right;\n",
       "    }\n",
       "</style>\n",
       "<table border=\"1\" class=\"dataframe\">\n",
       "  <thead>\n",
       "    <tr style=\"text-align: right;\">\n",
       "      <th></th>\n",
       "      <th>text</th>\n",
       "    </tr>\n",
       "  </thead>\n",
       "  <tbody>\n",
       "    <tr>\n",
       "      <th>0</th>\n",
       "      <td>fiquei sinal hoje dia todo chego casa surto la...</td>\n",
       "    </tr>\n",
       "    <tr>\n",
       "      <th>1</th>\n",
       "      <td>@haddad_fernando @clagraca honestidade ultima ...</td>\n",
       "    </tr>\n",
       "    <tr>\n",
       "      <th>2</th>\n",
       "      <td>bolsonaro poderia pior presidente toda histori...</td>\n",
       "    </tr>\n",
       "    <tr>\n",
       "      <th>3</th>\n",
       "      <td>q comecar ter consciencia amigos coisa ter rel...</td>\n",
       "    </tr>\n",
       "    <tr>\n",
       "      <th>4</th>\n",
       "      <td>assisti ta lista quero ver coisa https t co/h7...</td>\n",
       "    </tr>\n",
       "  </tbody>\n",
       "</table>\n",
       "</div>"
      ],
      "text/plain": [
       "                                                text\n",
       "0  fiquei sinal hoje dia todo chego casa surto la...\n",
       "1  @haddad_fernando @clagraca honestidade ultima ...\n",
       "2  bolsonaro poderia pior presidente toda histori...\n",
       "3  q comecar ter consciencia amigos coisa ter rel...\n",
       "4  assisti ta lista quero ver coisa https t co/h7..."
      ]
     },
     "execution_count": 21,
     "metadata": {},
     "output_type": "execute_result"
    }
   ],
   "source": [
    "df_neutro.head()"
   ]
  },
  {
   "cell_type": "code",
   "execution_count": 10,
   "id": "bb53a150",
   "metadata": {},
   "outputs": [],
   "source": [
    "df_neutro = df_neutro.apply(lambda x: x.replace('coisa', ''))"
   ]
  },
  {
   "cell_type": "code",
   "execution_count": 22,
   "id": "949d9c09",
   "metadata": {},
   "outputs": [
    {
     "data": {
      "text/html": [
       "<div>\n",
       "<style scoped>\n",
       "    .dataframe tbody tr th:only-of-type {\n",
       "        vertical-align: middle;\n",
       "    }\n",
       "\n",
       "    .dataframe tbody tr th {\n",
       "        vertical-align: top;\n",
       "    }\n",
       "\n",
       "    .dataframe thead th {\n",
       "        text-align: right;\n",
       "    }\n",
       "</style>\n",
       "<table border=\"1\" class=\"dataframe\">\n",
       "  <thead>\n",
       "    <tr style=\"text-align: right;\">\n",
       "      <th></th>\n",
       "      <th>text</th>\n",
       "    </tr>\n",
       "  </thead>\n",
       "  <tbody>\n",
       "    <tr>\n",
       "      <th>0</th>\n",
       "      <td>fiquei sinal hoje dia todo chego casa surto la...</td>\n",
       "    </tr>\n",
       "    <tr>\n",
       "      <th>1</th>\n",
       "      <td>@haddad_fernando @clagraca honestidade ultima ...</td>\n",
       "    </tr>\n",
       "    <tr>\n",
       "      <th>2</th>\n",
       "      <td>bolsonaro poderia pior presidente toda histori...</td>\n",
       "    </tr>\n",
       "    <tr>\n",
       "      <th>3</th>\n",
       "      <td>q comecar ter consciencia amigos coisa ter rel...</td>\n",
       "    </tr>\n",
       "    <tr>\n",
       "      <th>4</th>\n",
       "      <td>assisti ta lista quero ver coisa https t co/h7...</td>\n",
       "    </tr>\n",
       "  </tbody>\n",
       "</table>\n",
       "</div>"
      ],
      "text/plain": [
       "                                                text\n",
       "0  fiquei sinal hoje dia todo chego casa surto la...\n",
       "1  @haddad_fernando @clagraca honestidade ultima ...\n",
       "2  bolsonaro poderia pior presidente toda histori...\n",
       "3  q comecar ter consciencia amigos coisa ter rel...\n",
       "4  assisti ta lista quero ver coisa https t co/h7..."
      ]
     },
     "execution_count": 22,
     "metadata": {},
     "output_type": "execute_result"
    }
   ],
   "source": [
    "df_neutro.head()"
   ]
  },
  {
   "cell_type": "code",
   "execution_count": 23,
   "id": "58c42b24",
   "metadata": {},
   "outputs": [],
   "source": [
    "df_neutro['text'] = df_neutro['text'].str.replace('coisa', '')"
   ]
  },
  {
   "cell_type": "code",
   "execution_count": 24,
   "id": "3e40fc90",
   "metadata": {},
   "outputs": [],
   "source": [
    "df_neutro.to_csv('tweets_neutros_finais_sem_coisa2.csv', index=False)"
   ]
  },
  {
   "cell_type": "code",
   "execution_count": 26,
   "id": "4c9ca9d3",
   "metadata": {},
   "outputs": [],
   "source": [
    "df_neutro2 = pd.read_csv('tweets_neutros_finais_sem_coisa.csv')"
   ]
  },
  {
   "cell_type": "code",
   "execution_count": 28,
   "id": "8d88b9f8",
   "metadata": {},
   "outputs": [],
   "source": [
    "dfs = pd.concat([df_neutro,df_neutro2])"
   ]
  },
  {
   "cell_type": "code",
   "execution_count": 33,
   "id": "8fa36d40",
   "metadata": {},
   "outputs": [
    {
     "data": {
      "text/plain": [
       "text    4195\n",
       "dtype: int64"
      ]
     },
     "execution_count": 33,
     "metadata": {},
     "output_type": "execute_result"
    }
   ],
   "source": [
    "dfs.count()"
   ]
  },
  {
   "cell_type": "code",
   "execution_count": 31,
   "id": "19b529c3",
   "metadata": {},
   "outputs": [],
   "source": [
    "dfst = dfs.drop_duplicates()"
   ]
  },
  {
   "cell_type": "code",
   "execution_count": 32,
   "id": "3d7685bd",
   "metadata": {},
   "outputs": [
    {
     "data": {
      "text/plain": [
       "text    4179\n",
       "dtype: int64"
      ]
     },
     "execution_count": 32,
     "metadata": {},
     "output_type": "execute_result"
    }
   ],
   "source": [
    "dfst.count()"
   ]
  },
  {
   "cell_type": "code",
   "execution_count": 34,
   "id": "8f8c2762",
   "metadata": {},
   "outputs": [],
   "source": [
    "dfst.to_csv('tweets_neutros_finais_sem_coisa.csv', index=False)"
   ]
  }
 ],
 "metadata": {
  "kernelspec": {
   "display_name": "Python 3",
   "language": "python",
   "name": "python3"
  },
  "language_info": {
   "codemirror_mode": {
    "name": "ipython",
    "version": 3
   },
   "file_extension": ".py",
   "mimetype": "text/x-python",
   "name": "python",
   "nbconvert_exporter": "python",
   "pygments_lexer": "ipython3",
   "version": "3.8.8"
  }
 },
 "nbformat": 4,
 "nbformat_minor": 5
}
