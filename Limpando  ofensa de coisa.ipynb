{
 "cells": [
  {
   "cell_type": "code",
   "execution_count": 1,
   "id": "c17184b9",
   "metadata": {},
   "outputs": [],
   "source": [
    "import pandas as pd\n",
    "lexicon = pd.read_csv('lexicon_enriquecido.csv')\n",
    "df_neutro = pd.read_csv('tweets_neutros_finais_sem_coisa_nem_ofensa.csv')"
   ]
  },
  {
   "cell_type": "code",
   "execution_count": 20,
   "id": "8dcc8e84",
   "metadata": {},
   "outputs": [
    {
     "ename": "SyntaxError",
     "evalue": "invalid syntax (<ipython-input-20-83b21c749984>, line 1)",
     "output_type": "error",
     "traceback": [
      "\u001b[1;36m  File \u001b[1;32m\"<ipython-input-20-83b21c749984>\"\u001b[1;36m, line \u001b[1;32m1\u001b[0m\n\u001b[1;33m    df_neutro = df_neutro[df_neutro[\"text\"].str.contains(for i in lexicon.index: lexicon.loc[i, \"Portuguese (original)\"]) == False]\u001b[0m\n\u001b[1;37m                                                         ^\u001b[0m\n\u001b[1;31mSyntaxError\u001b[0m\u001b[1;31m:\u001b[0m invalid syntax\n"
     ]
    }
   ],
   "source": [
    "df_neutro = df_neutro[df_neutro[\"text\"].str.contains(for i in lexicon.index: lexicon.loc[i, \"Portuguese (original)\"]) == False]"
   ]
  },
  {
   "cell_type": "code",
   "execution_count": 35,
   "id": "8f89be5c",
   "metadata": {},
   "outputs": [],
   "source": [
    "index = lexicon.index\n",
    "for i in index:\n",
    "    df_neutro = df_neutro[df_neutro[\"text\"].str.contains(lexicon.loc[i, \"Portuguese (original)\"]) == False]"
   ]
  },
  {
   "cell_type": "code",
   "execution_count": 36,
   "id": "30afa240",
   "metadata": {},
   "outputs": [
    {
     "data": {
      "text/plain": [
       "text    2836\n",
       "dtype: int64"
      ]
     },
     "execution_count": 36,
     "metadata": {},
     "output_type": "execute_result"
    }
   ],
   "source": [
    "df_neutro.count()"
   ]
  },
  {
   "cell_type": "code",
   "execution_count": 34,
   "id": "1e9277e2",
   "metadata": {},
   "outputs": [],
   "source": [
    "for i in index:\n",
    "    lexicon.loc[i, \"Portuguese (original)\"]"
   ]
  },
  {
   "cell_type": "code",
   "execution_count": 38,
   "id": "015f1242",
   "metadata": {},
   "outputs": [],
   "source": [
    "df_neutro.to_csv('tweets_neutros_finais_sem_coisa_nem_ofensa.csv', index=False)"
   ]
  },
  {
   "cell_type": "code",
   "execution_count": null,
   "id": "99ae736f",
   "metadata": {},
   "outputs": [],
   "source": []
  }
 ],
 "metadata": {
  "kernelspec": {
   "display_name": "Python 3",
   "language": "python",
   "name": "python3"
  },
  "language_info": {
   "codemirror_mode": {
    "name": "ipython",
    "version": 3
   },
   "file_extension": ".py",
   "mimetype": "text/x-python",
   "name": "python",
   "nbconvert_exporter": "python",
   "pygments_lexer": "ipython3",
   "version": "3.8.8"
  }
 },
 "nbformat": 4,
 "nbformat_minor": 5
}
