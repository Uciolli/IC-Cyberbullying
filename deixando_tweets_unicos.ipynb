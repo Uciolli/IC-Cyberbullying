{
 "cells": [
  {
   "cell_type": "code",
   "execution_count": 1,
   "id": "638c1678",
   "metadata": {},
   "outputs": [],
   "source": [
    "import pandas as pd\n",
    "df = pd.read_csv('tweets_ofensivos_pre_limpos.csv', usecols=['text'])"
   ]
  },
  {
   "cell_type": "code",
   "execution_count": 2,
   "id": "dd2bf7d9",
   "metadata": {},
   "outputs": [
    {
     "data": {
      "text/html": [
       "<div>\n",
       "<style scoped>\n",
       "    .dataframe tbody tr th:only-of-type {\n",
       "        vertical-align: middle;\n",
       "    }\n",
       "\n",
       "    .dataframe tbody tr th {\n",
       "        vertical-align: top;\n",
       "    }\n",
       "\n",
       "    .dataframe thead th {\n",
       "        text-align: right;\n",
       "    }\n",
       "</style>\n",
       "<table border=\"1\" class=\"dataframe\">\n",
       "  <thead>\n",
       "    <tr style=\"text-align: right;\">\n",
       "      <th></th>\n",
       "      <th>text</th>\n",
       "    </tr>\n",
       "  </thead>\n",
       "  <tbody>\n",
       "    <tr>\n",
       "      <th>0</th>\n",
       "      <td>RT @MariaMa59879065: A TVI ficava melhor se ti...</td>\n",
       "    </tr>\n",
       "    <tr>\n",
       "      <th>1</th>\n",
       "      <td>RT @brussel_ive: @cirogomes Com esse seu discu...</td>\n",
       "    </tr>\n",
       "    <tr>\n",
       "      <th>2</th>\n",
       "      <td>RT @brussel_ive: @cirogomes Com esse seu discu...</td>\n",
       "    </tr>\n",
       "    <tr>\n",
       "      <th>3</th>\n",
       "      <td>=))))) mang trong mình dòng máu Lạc Hồng nó ph...</td>\n",
       "    </tr>\n",
       "    <tr>\n",
       "      <th>4</th>\n",
       "      <td>tomamo mas no cu</td>\n",
       "    </tr>\n",
       "  </tbody>\n",
       "</table>\n",
       "</div>"
      ],
      "text/plain": [
       "                                                text\n",
       "0  RT @MariaMa59879065: A TVI ficava melhor se ti...\n",
       "1  RT @brussel_ive: @cirogomes Com esse seu discu...\n",
       "2  RT @brussel_ive: @cirogomes Com esse seu discu...\n",
       "3  =))))) mang trong mình dòng máu Lạc Hồng nó ph...\n",
       "4                                   tomamo mas no cu"
      ]
     },
     "execution_count": 2,
     "metadata": {},
     "output_type": "execute_result"
    }
   ],
   "source": [
    "df.head()"
   ]
  },
  {
   "cell_type": "code",
   "execution_count": 3,
   "id": "0976518f",
   "metadata": {},
   "outputs": [
    {
     "data": {
      "text/plain": [
       "text    7595\n",
       "dtype: int64"
      ]
     },
     "execution_count": 3,
     "metadata": {},
     "output_type": "execute_result"
    }
   ],
   "source": [
    "df.count()"
   ]
  },
  {
   "cell_type": "code",
   "execution_count": 4,
   "id": "67039302",
   "metadata": {},
   "outputs": [],
   "source": [
    "df = df.drop_duplicates()"
   ]
  },
  {
   "cell_type": "code",
   "execution_count": 5,
   "id": "d761a404",
   "metadata": {},
   "outputs": [],
   "source": [
    "df.count()\n",
    "df.to_csv('tweets_ofensivos_sem_repeticao.csv', index=False)"
   ]
  },
  {
   "cell_type": "code",
   "execution_count": 2,
   "id": "5261e2d7",
   "metadata": {},
   "outputs": [],
   "source": [
    "df3 = pd.read_csv('tweets_neutros4.csv', usecols=['text'])"
   ]
  },
  {
   "cell_type": "code",
   "execution_count": 5,
   "id": "33b7d67d",
   "metadata": {},
   "outputs": [
    {
     "data": {
      "text/plain": [
       "text    881\n",
       "dtype: int64"
      ]
     },
     "execution_count": 5,
     "metadata": {},
     "output_type": "execute_result"
    }
   ],
   "source": [
    "df3.count()"
   ]
  },
  {
   "cell_type": "code",
   "execution_count": 4,
   "id": "de12608b",
   "metadata": {},
   "outputs": [],
   "source": [
    "df3 = df3.drop_duplicates()"
   ]
  },
  {
   "cell_type": "code",
   "execution_count": 6,
   "id": "00de75cb",
   "metadata": {},
   "outputs": [
    {
     "data": {
      "text/plain": [
       "text    881\n",
       "dtype: int64"
      ]
     },
     "execution_count": 6,
     "metadata": {},
     "output_type": "execute_result"
    }
   ],
   "source": [
    "df3.count()"
   ]
  },
  {
   "cell_type": "code",
   "execution_count": 7,
   "id": "cee352c4",
   "metadata": {},
   "outputs": [],
   "source": [
    "df3.to_csv('tweets_neutros_sem_repeticao2.csv', index=False)"
   ]
  },
  {
   "cell_type": "code",
   "execution_count": 10,
   "id": "b46e71d1",
   "metadata": {},
   "outputs": [],
   "source": [
    "df2 = pd.read_csv('tweets_neutros2.csv', usecols=['text'])"
   ]
  },
  {
   "cell_type": "code",
   "execution_count": 11,
   "id": "74821069",
   "metadata": {},
   "outputs": [
    {
     "data": {
      "text/plain": [
       "text    2362\n",
       "dtype: int64"
      ]
     },
     "execution_count": 11,
     "metadata": {},
     "output_type": "execute_result"
    }
   ],
   "source": [
    "df2.count()"
   ]
  },
  {
   "cell_type": "code",
   "execution_count": 12,
   "id": "f92ab859",
   "metadata": {},
   "outputs": [],
   "source": [
    "df2 = df2.drop_duplicates()"
   ]
  },
  {
   "cell_type": "code",
   "execution_count": 13,
   "id": "3cc1b9d0",
   "metadata": {},
   "outputs": [
    {
     "data": {
      "text/plain": [
       "text    2360\n",
       "dtype: int64"
      ]
     },
     "execution_count": 13,
     "metadata": {},
     "output_type": "execute_result"
    }
   ],
   "source": [
    "df2.count()"
   ]
  },
  {
   "cell_type": "code",
   "execution_count": 14,
   "id": "89971d6d",
   "metadata": {},
   "outputs": [],
   "source": [
    "dfs = pd.concat([df2,df3],axis=0)"
   ]
  },
  {
   "cell_type": "code",
   "execution_count": 15,
   "id": "b6042d7c",
   "metadata": {},
   "outputs": [
    {
     "data": {
      "text/plain": [
       "text    3314\n",
       "dtype: int64"
      ]
     },
     "execution_count": 15,
     "metadata": {},
     "output_type": "execute_result"
    }
   ],
   "source": [
    "dfs.count()"
   ]
  },
  {
   "cell_type": "code",
   "execution_count": 16,
   "id": "14187177",
   "metadata": {},
   "outputs": [],
   "source": [
    "dfs = dfs.drop_duplicates()"
   ]
  },
  {
   "cell_type": "code",
   "execution_count": 17,
   "id": "d7710a4e",
   "metadata": {},
   "outputs": [
    {
     "data": {
      "text/plain": [
       "text    3314\n",
       "dtype: int64"
      ]
     },
     "execution_count": 17,
     "metadata": {},
     "output_type": "execute_result"
    }
   ],
   "source": [
    "dfs.count()"
   ]
  },
  {
   "cell_type": "code",
   "execution_count": 18,
   "id": "c1a4f736",
   "metadata": {},
   "outputs": [],
   "source": [
    "dfs.to_csv('tweets_neutros_sem_repeticao.csv', index=False)"
   ]
  },
  {
   "cell_type": "code",
   "execution_count": null,
   "id": "22e3b0fb",
   "metadata": {},
   "outputs": [],
   "source": []
  },
  {
   "cell_type": "code",
   "execution_count": null,
   "id": "a6fcc8f3",
   "metadata": {},
   "outputs": [],
   "source": []
  }
 ],
 "metadata": {
  "kernelspec": {
   "display_name": "Python 3",
   "language": "python",
   "name": "python3"
  },
  "language_info": {
   "codemirror_mode": {
    "name": "ipython",
    "version": 3
   },
   "file_extension": ".py",
   "mimetype": "text/x-python",
   "name": "python",
   "nbconvert_exporter": "python",
   "pygments_lexer": "ipython3",
   "version": "3.8.8"
  }
 },
 "nbformat": 4,
 "nbformat_minor": 5
}
