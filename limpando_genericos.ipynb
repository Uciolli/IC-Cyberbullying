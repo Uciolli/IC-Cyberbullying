{
 "cells": [
  {
   "cell_type": "code",
   "execution_count": 1,
   "id": "c317bfc0",
   "metadata": {},
   "outputs": [],
   "source": [
    "import pandas as pd"
   ]
  },
  {
   "cell_type": "code",
   "execution_count": 2,
   "id": "c6ea206f",
   "metadata": {},
   "outputs": [],
   "source": [
    "df = pd.read_csv('tweets_anotados.csv')"
   ]
  },
  {
   "cell_type": "code",
   "execution_count": 3,
   "id": "24e7dde9",
   "metadata": {},
   "outputs": [
    {
     "data": {
      "text/html": [
       "<div>\n",
       "<style scoped>\n",
       "    .dataframe tbody tr th:only-of-type {\n",
       "        vertical-align: middle;\n",
       "    }\n",
       "\n",
       "    .dataframe tbody tr th {\n",
       "        vertical-align: top;\n",
       "    }\n",
       "\n",
       "    .dataframe thead th {\n",
       "        text-align: right;\n",
       "    }\n",
       "</style>\n",
       "<table border=\"1\" class=\"dataframe\">\n",
       "  <thead>\n",
       "    <tr style=\"text-align: right;\">\n",
       "      <th></th>\n",
       "      <th>id</th>\n",
       "      <th>text</th>\n",
       "      <th>user_id</th>\n",
       "    </tr>\n",
       "  </thead>\n",
       "  <tbody>\n",
       "    <tr>\n",
       "      <th>0</th>\n",
       "      <td>1518271394982899712</td>\n",
       "      <td>como pode bixo tenho certeza que essa gata fed...</td>\n",
       "      <td>1.508181e+18</td>\n",
       "    </tr>\n",
       "    <tr>\n",
       "      <th>1</th>\n",
       "      <td>1518270948893462528</td>\n",
       "      <td>@chihirours Infelizmente vai sempre ter gente ...</td>\n",
       "      <td>1.349908e+18</td>\n",
       "    </tr>\n",
       "    <tr>\n",
       "      <th>2</th>\n",
       "      <td>1518270868652273667</td>\n",
       "      <td>@AtivoCalcinha Tie dye o chorume da moda</td>\n",
       "      <td>1.437477e+18</td>\n",
       "    </tr>\n",
       "    <tr>\n",
       "      <th>3</th>\n",
       "      <td>1518269342772871168</td>\n",
       "      <td>RT @PhotosSilva: @pavarini Cheirou a chorume g...</td>\n",
       "      <td>6.042412e+06</td>\n",
       "    </tr>\n",
       "    <tr>\n",
       "      <th>4</th>\n",
       "      <td>1518269240251494400</td>\n",
       "      <td>@o_antagonista Santos Cruz faz, para mim,parte...</td>\n",
       "      <td>1.266845e+18</td>\n",
       "    </tr>\n",
       "  </tbody>\n",
       "</table>\n",
       "</div>"
      ],
      "text/plain": [
       "                    id                                               text  \\\n",
       "0  1518271394982899712  como pode bixo tenho certeza que essa gata fed...   \n",
       "1  1518270948893462528  @chihirours Infelizmente vai sempre ter gente ...   \n",
       "2  1518270868652273667           @AtivoCalcinha Tie dye o chorume da moda   \n",
       "3  1518269342772871168  RT @PhotosSilva: @pavarini Cheirou a chorume g...   \n",
       "4  1518269240251494400  @o_antagonista Santos Cruz faz, para mim,parte...   \n",
       "\n",
       "        user_id  \n",
       "0  1.508181e+18  \n",
       "1  1.349908e+18  \n",
       "2  1.437477e+18  \n",
       "3  6.042412e+06  \n",
       "4  1.266845e+18  "
      ]
     },
     "execution_count": 3,
     "metadata": {},
     "output_type": "execute_result"
    }
   ],
   "source": [
    "df.head()"
   ]
  },
  {
   "cell_type": "code",
   "execution_count": 4,
   "id": "a613d470",
   "metadata": {},
   "outputs": [
    {
     "data": {
      "text/plain": [
       "id         9476\n",
       "text       9476\n",
       "user_id    9212\n",
       "dtype: int64"
      ]
     },
     "execution_count": 4,
     "metadata": {},
     "output_type": "execute_result"
    }
   ],
   "source": [
    "df.count()"
   ]
  },
  {
   "cell_type": "code",
   "execution_count": 5,
   "id": "c9e944b6",
   "metadata": {},
   "outputs": [],
   "source": [
    "searchfor = ['chorume','baixaria', 'indiota', 'tomando no cano', 'familicia', 'fiofó', 'miliciano', 'marmiteira', 'marmiteiro', 'pedaço de estrume',\n",
    "            'petesada', 'bolsomerda', 'bolsotario', 'bolsootarios', 'meleca', 'alopr', 'inveja da peste', 'fanátic', 'duzinferno', 'pitaco', 'esperneia', \n",
    "            'boca fechada não entra mosquito', 'baderneiro', 'tonto de carteirinha', 'plantar o terror', 'tapa boca', 'nota de três', 'escárnio', 'globolixo', \n",
    "             'globo lixo', 'vista grossa', 'bolsonazi', 'facista', 'cambada', 'milico de merda', 'traidor da Pátria', 'bandido bom é bandido morto', 'cadeia nele', \n",
    "            'comunista', 'PT quadrilha', 'bunda no sofá', 'lalau', 'engulam esquerda', 'luladrão', 'lularapio', 'casa de jaula', 'voltar pra jaula', 'batendo perna', \n",
    "             'lulaladrao', 'vai comer pão com mortadela', 'bla', 'famosinha', 'só pensam no próprio rabo', 'joga uma carteira de trabalho que correm todos', 'tetinha secou',\n",
    "            'cara de homem', 'óleo de peroba', 'moças que ficam na rodovia', 'devolva o dinheiro', 'vai catar coco', 'bolsofurado', 'bolso', 'burlesca', 'conseguiu formular uma frase inteira0',\n",
    "            'stf', 'militar', 'pt', 'pet', 'cadeia', 'bozo', 'lavagem cerebral', 'Bolso', 'tez', 'Iscrota', 'lul', 'Lul', 'greluda', 'esquer', 'glob', 'filme', 'minio', 'mili', 'LUL', 'CIR', 'BOLSO', 'cir']\n"
   ]
  },
  {
   "cell_type": "code",
   "execution_count": 6,
   "id": "f3ceef80",
   "metadata": {},
   "outputs": [],
   "source": [
    "df = df[~df.text.str.contains('|'.join(searchfor))]"
   ]
  },
  {
   "cell_type": "code",
   "execution_count": 7,
   "id": "45a8bc07",
   "metadata": {},
   "outputs": [
    {
     "data": {
      "text/plain": [
       "id         7471\n",
       "text       7471\n",
       "user_id    7249\n",
       "dtype: int64"
      ]
     },
     "execution_count": 7,
     "metadata": {},
     "output_type": "execute_result"
    }
   ],
   "source": [
    "df.count()"
   ]
  },
  {
   "cell_type": "code",
   "execution_count": 8,
   "id": "11fbbbc7",
   "metadata": {},
   "outputs": [],
   "source": [
    "df.to_csv('tweets_ofensivos_pre_limpos.csv', index=False)"
   ]
  },
  {
   "cell_type": "code",
   "execution_count": null,
   "id": "6edd3182",
   "metadata": {},
   "outputs": [],
   "source": []
  },
  {
   "cell_type": "code",
   "execution_count": null,
   "id": "4fd245c9",
   "metadata": {},
   "outputs": [],
   "source": []
  }
 ],
 "metadata": {
  "kernelspec": {
   "display_name": "Python 3",
   "language": "python",
   "name": "python3"
  },
  "language_info": {
   "codemirror_mode": {
    "name": "ipython",
    "version": 3
   },
   "file_extension": ".py",
   "mimetype": "text/x-python",
   "name": "python",
   "nbconvert_exporter": "python",
   "pygments_lexer": "ipython3",
   "version": "3.8.8"
  }
 },
 "nbformat": 4,
 "nbformat_minor": 5
}
