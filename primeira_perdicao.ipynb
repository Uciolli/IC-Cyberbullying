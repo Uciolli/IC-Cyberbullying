{
 "cells": [
  {
   "cell_type": "code",
   "execution_count": 1,
   "id": "926ad8a6",
   "metadata": {},
   "outputs": [],
   "source": [
    "import pandas as pd\n",
    "df_ofensa = pd.read_csv('tweets_ofensivos_finais_com_ofensa.csv')\n",
    "df_neutro = pd.read_csv('tweets_neutros_finais_com_coisa.csv')"
   ]
  },
  {
   "cell_type": "code",
   "execution_count": 2,
   "id": "95b25ffd",
   "metadata": {},
   "outputs": [
    {
     "data": {
      "text/html": [
       "<div>\n",
       "<style scoped>\n",
       "    .dataframe tbody tr th:only-of-type {\n",
       "        vertical-align: middle;\n",
       "    }\n",
       "\n",
       "    .dataframe tbody tr th {\n",
       "        vertical-align: top;\n",
       "    }\n",
       "\n",
       "    .dataframe thead th {\n",
       "        text-align: right;\n",
       "    }\n",
       "</style>\n",
       "<table border=\"1\" class=\"dataframe\">\n",
       "  <thead>\n",
       "    <tr style=\"text-align: right;\">\n",
       "      <th></th>\n",
       "      <th>text</th>\n",
       "    </tr>\n",
       "  </thead>\n",
       "  <tbody>\n",
       "    <tr>\n",
       "      <th>0</th>\n",
       "      <td>rt @mariama59879065 tvi ficava melhor prolonga...</td>\n",
       "    </tr>\n",
       "    <tr>\n",
       "      <th>1</th>\n",
       "      <td>= mang trong minh dong mau lac hong phai cu go...</td>\n",
       "    </tr>\n",
       "    <tr>\n",
       "      <th>2</th>\n",
       "      <td>tomamo cu</td>\n",
       "    </tr>\n",
       "    <tr>\n",
       "      <th>3</th>\n",
       "      <td>n entendo oq passa cabeca dessas pessoas namor...</td>\n",
       "    </tr>\n",
       "    <tr>\n",
       "      <th>4</th>\n",
       "      <td>vai tomar cu professor filho puta</td>\n",
       "    </tr>\n",
       "  </tbody>\n",
       "</table>\n",
       "</div>"
      ],
      "text/plain": [
       "                                                text\n",
       "0  rt @mariama59879065 tvi ficava melhor prolonga...\n",
       "1  = mang trong minh dong mau lac hong phai cu go...\n",
       "2                                         tomamo cu \n",
       "3  n entendo oq passa cabeca dessas pessoas namor...\n",
       "4                 vai tomar cu professor filho puta "
      ]
     },
     "execution_count": 2,
     "metadata": {},
     "output_type": "execute_result"
    }
   ],
   "source": [
    "df_ofensa.head()"
   ]
  },
  {
   "cell_type": "code",
   "execution_count": 3,
   "id": "010da841",
   "metadata": {},
   "outputs": [],
   "source": [
    "df_ofensa.insert(1, 'classe', 1)"
   ]
  },
  {
   "cell_type": "code",
   "execution_count": 4,
   "id": "25c81c67",
   "metadata": {},
   "outputs": [
    {
     "data": {
      "text/html": [
       "<div>\n",
       "<style scoped>\n",
       "    .dataframe tbody tr th:only-of-type {\n",
       "        vertical-align: middle;\n",
       "    }\n",
       "\n",
       "    .dataframe tbody tr th {\n",
       "        vertical-align: top;\n",
       "    }\n",
       "\n",
       "    .dataframe thead th {\n",
       "        text-align: right;\n",
       "    }\n",
       "</style>\n",
       "<table border=\"1\" class=\"dataframe\">\n",
       "  <thead>\n",
       "    <tr style=\"text-align: right;\">\n",
       "      <th></th>\n",
       "      <th>text</th>\n",
       "    </tr>\n",
       "  </thead>\n",
       "  <tbody>\n",
       "    <tr>\n",
       "      <th>0</th>\n",
       "      <td>nunca lido ansiedade medo d faze alguma coisa ...</td>\n",
       "    </tr>\n",
       "    <tr>\n",
       "      <th>1</th>\n",
       "      <td>fiz alguma coisa</td>\n",
       "    </tr>\n",
       "    <tr>\n",
       "      <th>2</th>\n",
       "      <td>@seekzisgarb poa mt coisa pra fzr alem show tue</td>\n",
       "    </tr>\n",
       "    <tr>\n",
       "      <th>3</th>\n",
       "      <td>pensei mesma coisa akkakakakakkkakakak confirm...</td>\n",
       "    </tr>\n",
       "    <tr>\n",
       "      <th>4</th>\n",
       "      <td>coisa linda https t co/tdhc42gyyc</td>\n",
       "    </tr>\n",
       "  </tbody>\n",
       "</table>\n",
       "</div>"
      ],
      "text/plain": [
       "                                                text\n",
       "0  nunca lido ansiedade medo d faze alguma coisa ...\n",
       "1                                  fiz alguma coisa \n",
       "2   @seekzisgarb poa mt coisa pra fzr alem show tue \n",
       "3  pensei mesma coisa akkakakakakkkakakak confirm...\n",
       "4                 coisa linda https t co/tdhc42gyyc "
      ]
     },
     "execution_count": 4,
     "metadata": {},
     "output_type": "execute_result"
    }
   ],
   "source": [
    "df_neutro.head()"
   ]
  },
  {
   "cell_type": "code",
   "execution_count": 5,
   "id": "0f84c916",
   "metadata": {},
   "outputs": [],
   "source": [
    "df_neutro.insert(1, 'classe', 0)"
   ]
  },
  {
   "cell_type": "code",
   "execution_count": 6,
   "id": "7b011412",
   "metadata": {},
   "outputs": [],
   "source": [
    "import numpy as np\n",
    "\n",
    "from sklearn.naive_bayes import MultinomialNB\n",
    "\n",
    "from sklearn.feature_extraction.text import CountVectorizer\n",
    "from sklearn.model_selection import train_test_split"
   ]
  },
  {
   "cell_type": "code",
   "execution_count": 7,
   "id": "d17846d6",
   "metadata": {},
   "outputs": [],
   "source": [
    "frames = [df_ofensa, df_neutro]\n",
    "df_geral = pd.concat(frames)"
   ]
  },
  {
   "cell_type": "code",
   "execution_count": 8,
   "id": "61b42638",
   "metadata": {},
   "outputs": [
    {
     "data": {
      "text/html": [
       "<div>\n",
       "<style scoped>\n",
       "    .dataframe tbody tr th:only-of-type {\n",
       "        vertical-align: middle;\n",
       "    }\n",
       "\n",
       "    .dataframe tbody tr th {\n",
       "        vertical-align: top;\n",
       "    }\n",
       "\n",
       "    .dataframe thead th {\n",
       "        text-align: right;\n",
       "    }\n",
       "</style>\n",
       "<table border=\"1\" class=\"dataframe\">\n",
       "  <thead>\n",
       "    <tr style=\"text-align: right;\">\n",
       "      <th></th>\n",
       "      <th>text</th>\n",
       "      <th>classe</th>\n",
       "    </tr>\n",
       "  </thead>\n",
       "  <tbody>\n",
       "    <tr>\n",
       "      <th>0</th>\n",
       "      <td>rt @mariama59879065 tvi ficava melhor prolonga...</td>\n",
       "      <td>1</td>\n",
       "    </tr>\n",
       "    <tr>\n",
       "      <th>1</th>\n",
       "      <td>= mang trong minh dong mau lac hong phai cu go...</td>\n",
       "      <td>1</td>\n",
       "    </tr>\n",
       "    <tr>\n",
       "      <th>2</th>\n",
       "      <td>tomamo cu</td>\n",
       "      <td>1</td>\n",
       "    </tr>\n",
       "    <tr>\n",
       "      <th>3</th>\n",
       "      <td>n entendo oq passa cabeca dessas pessoas namor...</td>\n",
       "      <td>1</td>\n",
       "    </tr>\n",
       "    <tr>\n",
       "      <th>4</th>\n",
       "      <td>vai tomar cu professor filho puta</td>\n",
       "      <td>1</td>\n",
       "    </tr>\n",
       "  </tbody>\n",
       "</table>\n",
       "</div>"
      ],
      "text/plain": [
       "                                                text  classe\n",
       "0  rt @mariama59879065 tvi ficava melhor prolonga...       1\n",
       "1  = mang trong minh dong mau lac hong phai cu go...       1\n",
       "2                                         tomamo cu        1\n",
       "3  n entendo oq passa cabeca dessas pessoas namor...       1\n",
       "4                 vai tomar cu professor filho puta        1"
      ]
     },
     "execution_count": 8,
     "metadata": {},
     "output_type": "execute_result"
    }
   ],
   "source": [
    "df_geral.head()"
   ]
  },
  {
   "cell_type": "code",
   "execution_count": 9,
   "id": "8f38eabf",
   "metadata": {},
   "outputs": [],
   "source": [
    "df_geral = df_geral.sample(frac=1).reset_index(drop=True)"
   ]
  },
  {
   "cell_type": "code",
   "execution_count": 10,
   "id": "246a9445",
   "metadata": {},
   "outputs": [
    {
     "data": {
      "text/html": [
       "<div>\n",
       "<style scoped>\n",
       "    .dataframe tbody tr th:only-of-type {\n",
       "        vertical-align: middle;\n",
       "    }\n",
       "\n",
       "    .dataframe tbody tr th {\n",
       "        vertical-align: top;\n",
       "    }\n",
       "\n",
       "    .dataframe thead th {\n",
       "        text-align: right;\n",
       "    }\n",
       "</style>\n",
       "<table border=\"1\" class=\"dataframe\">\n",
       "  <thead>\n",
       "    <tr style=\"text-align: right;\">\n",
       "      <th></th>\n",
       "      <th>text</th>\n",
       "      <th>classe</th>\n",
       "    </tr>\n",
       "  </thead>\n",
       "  <tbody>\n",
       "    <tr>\n",
       "      <th>0</th>\n",
       "      <td>sanguessuga hoje vai ser criar pra mim</td>\n",
       "      <td>1</td>\n",
       "    </tr>\n",
       "    <tr>\n",
       "      <th>1</th>\n",
       "      <td>@mister_wolf_0 @pamjiles vieja loca y mentiros...</td>\n",
       "      <td>1</td>\n",
       "    </tr>\n",
       "    <tr>\n",
       "      <th>2</th>\n",
       "      <td>rt @rn_jonathas @euclides_crf todos utilizados...</td>\n",
       "      <td>1</td>\n",
       "    </tr>\n",
       "    <tr>\n",
       "      <th>3</th>\n",
       "      <td>comprei monte coisa shoppe pra fazer surpresa ...</td>\n",
       "      <td>0</td>\n",
       "    </tr>\n",
       "    <tr>\n",
       "      <th>4</th>\n",
       "      <td>coco desgraca corretor sio https t co/rutjgjynqn</td>\n",
       "      <td>1</td>\n",
       "    </tr>\n",
       "  </tbody>\n",
       "</table>\n",
       "</div>"
      ],
      "text/plain": [
       "                                                text  classe\n",
       "0            sanguessuga hoje vai ser criar pra mim        1\n",
       "1  @mister_wolf_0 @pamjiles vieja loca y mentiros...       1\n",
       "2  rt @rn_jonathas @euclides_crf todos utilizados...       1\n",
       "3  comprei monte coisa shoppe pra fazer surpresa ...       0\n",
       "4  coco desgraca corretor sio https t co/rutjgjynqn        1"
      ]
     },
     "execution_count": 10,
     "metadata": {},
     "output_type": "execute_result"
    }
   ],
   "source": [
    "df_geral.head()"
   ]
  },
  {
   "cell_type": "code",
   "execution_count": 11,
   "id": "ac14e7fd",
   "metadata": {},
   "outputs": [],
   "source": [
    "x_train, x_test, y_train, y_test = train_test_split(df_geral.text, df_geral.classe, test_size=0.3)"
   ]
  },
  {
   "cell_type": "code",
   "execution_count": 12,
   "id": "1a13fffd",
   "metadata": {},
   "outputs": [],
   "source": [
    "vect = CountVectorizer(ngram_range=(2,2))\n",
    "X_train = vect.fit_transform(x_train)\n",
    "X_test = vect.transform(x_test)"
   ]
  },
  {
   "cell_type": "code",
   "execution_count": 13,
   "id": "00553102",
   "metadata": {},
   "outputs": [],
   "source": [
    "mnb = MultinomialNB(alpha =0.2)\n",
    "\n",
    "mnb.fit(X_train,y_train)\n",
    "\n",
    "result= mnb.predict(X_test)"
   ]
  },
  {
   "cell_type": "code",
   "execution_count": 14,
   "id": "271f9b29",
   "metadata": {},
   "outputs": [
    {
     "data": {
      "text/plain": [
       "0.8925092374874034"
      ]
     },
     "execution_count": 14,
     "metadata": {},
     "output_type": "execute_result"
    }
   ],
   "source": [
    "from sklearn.metrics import accuracy_score\n",
    "accuracy_score(result,y_test)"
   ]
  },
  {
   "cell_type": "code",
   "execution_count": 15,
   "id": "402494ba",
   "metadata": {},
   "outputs": [
    {
     "data": {
      "text/plain": [
       "array([[ 948,   88],\n",
       "       [ 232, 1709]], dtype=int64)"
      ]
     },
     "execution_count": 15,
     "metadata": {},
     "output_type": "execute_result"
    }
   ],
   "source": [
    "from sklearn.metrics import confusion_matrix\n",
    "\n",
    "confusion_matrix(y_test, result)"
   ]
  },
  {
   "cell_type": "code",
   "execution_count": 17,
   "id": "8bac386e",
   "metadata": {},
   "outputs": [
    {
     "data": {
      "text/plain": [
       "0.9143927233814874"
      ]
     },
     "execution_count": 17,
     "metadata": {},
     "output_type": "execute_result"
    }
   ],
   "source": [
    "from sklearn.metrics import f1_score\n",
    "f1_score(result, y_test)"
   ]
  },
  {
   "cell_type": "code",
   "execution_count": 16,
   "id": "de97ebfa",
   "metadata": {},
   "outputs": [
    {
     "data": {
      "text/plain": [
       "1    6608\n",
       "0    3314\n",
       "Name: classe, dtype: int64"
      ]
     },
     "execution_count": 16,
     "metadata": {},
     "output_type": "execute_result"
    }
   ],
   "source": [
    "df_geral['classe'].value_counts()"
   ]
  }
 ],
 "metadata": {
  "kernelspec": {
   "display_name": "Python 3",
   "language": "python",
   "name": "python3"
  },
  "language_info": {
   "codemirror_mode": {
    "name": "ipython",
    "version": 3
   },
   "file_extension": ".py",
   "mimetype": "text/x-python",
   "name": "python",
   "nbconvert_exporter": "python",
   "pygments_lexer": "ipython3",
   "version": "3.8.8"
  }
 },
 "nbformat": 4,
 "nbformat_minor": 5
}
