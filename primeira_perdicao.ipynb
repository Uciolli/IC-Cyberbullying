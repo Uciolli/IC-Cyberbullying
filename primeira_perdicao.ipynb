{
  "cells": [
    {
      "cell_type": "markdown",
      "source": [
        "## Inicio da predição (Bases desbalanceadas e tweets neutros com coisa)"
      ],
      "metadata": {
        "id": "UnttoI3aA9Sh"
      },
      "id": "UnttoI3aA9Sh"
    },
    {
      "cell_type": "code",
      "execution_count": null,
      "id": "926ad8a6",
      "metadata": {
        "id": "926ad8a6"
      },
      "outputs": [],
      "source": [
        "import pandas as pd\n",
        "#df_ofensa = pd.read_csv('tweets_ofensivos_finais_com_ofensa.csv')\n",
        "#df_neutro = pd.read_csv('tweets_neutros_finais_com_coisa.csv')"
      ]
    },
    {
      "cell_type": "code",
      "execution_count": null,
      "id": "95b25ffd",
      "metadata": {
        "id": "95b25ffd",
        "outputId": "d825c51a-589d-4623-bc41-ce654a5735bb"
      },
      "outputs": [
        {
          "data": {
            "text/html": [
              "<div>\n",
              "<style scoped>\n",
              "    .dataframe tbody tr th:only-of-type {\n",
              "        vertical-align: middle;\n",
              "    }\n",
              "\n",
              "    .dataframe tbody tr th {\n",
              "        vertical-align: top;\n",
              "    }\n",
              "\n",
              "    .dataframe thead th {\n",
              "        text-align: right;\n",
              "    }\n",
              "</style>\n",
              "<table border=\"1\" class=\"dataframe\">\n",
              "  <thead>\n",
              "    <tr style=\"text-align: right;\">\n",
              "      <th></th>\n",
              "      <th>text</th>\n",
              "    </tr>\n",
              "  </thead>\n",
              "  <tbody>\n",
              "    <tr>\n",
              "      <th>0</th>\n",
              "      <td>rt @mariama59879065 tvi ficava melhor prolonga...</td>\n",
              "    </tr>\n",
              "    <tr>\n",
              "      <th>1</th>\n",
              "      <td>= mang trong minh dong mau lac hong phai cu go...</td>\n",
              "    </tr>\n",
              "    <tr>\n",
              "      <th>2</th>\n",
              "      <td>tomamo cu</td>\n",
              "    </tr>\n",
              "    <tr>\n",
              "      <th>3</th>\n",
              "      <td>n entendo oq passa cabeca dessas pessoas namor...</td>\n",
              "    </tr>\n",
              "    <tr>\n",
              "      <th>4</th>\n",
              "      <td>vai tomar cu professor filho puta</td>\n",
              "    </tr>\n",
              "  </tbody>\n",
              "</table>\n",
              "</div>"
            ],
            "text/plain": [
              "                                                text\n",
              "0  rt @mariama59879065 tvi ficava melhor prolonga...\n",
              "1  = mang trong minh dong mau lac hong phai cu go...\n",
              "2                                         tomamo cu \n",
              "3  n entendo oq passa cabeca dessas pessoas namor...\n",
              "4                 vai tomar cu professor filho puta "
            ]
          },
          "execution_count": 2,
          "metadata": {},
          "output_type": "execute_result"
        }
      ],
      "source": [
        "df_ofensa.head()"
      ]
    },
    {
      "cell_type": "code",
      "execution_count": null,
      "id": "010da841",
      "metadata": {
        "id": "010da841"
      },
      "outputs": [],
      "source": [
        "df_ofensa.insert(1, 'classe', 1)"
      ]
    },
    {
      "cell_type": "code",
      "execution_count": null,
      "id": "25c81c67",
      "metadata": {
        "id": "25c81c67",
        "outputId": "1b5199e9-0a85-4c7e-a8fc-6abf55fd1677"
      },
      "outputs": [
        {
          "data": {
            "text/html": [
              "<div>\n",
              "<style scoped>\n",
              "    .dataframe tbody tr th:only-of-type {\n",
              "        vertical-align: middle;\n",
              "    }\n",
              "\n",
              "    .dataframe tbody tr th {\n",
              "        vertical-align: top;\n",
              "    }\n",
              "\n",
              "    .dataframe thead th {\n",
              "        text-align: right;\n",
              "    }\n",
              "</style>\n",
              "<table border=\"1\" class=\"dataframe\">\n",
              "  <thead>\n",
              "    <tr style=\"text-align: right;\">\n",
              "      <th></th>\n",
              "      <th>text</th>\n",
              "    </tr>\n",
              "  </thead>\n",
              "  <tbody>\n",
              "    <tr>\n",
              "      <th>0</th>\n",
              "      <td>nunca lido ansiedade medo d faze alguma coisa ...</td>\n",
              "    </tr>\n",
              "    <tr>\n",
              "      <th>1</th>\n",
              "      <td>fiz alguma coisa</td>\n",
              "    </tr>\n",
              "    <tr>\n",
              "      <th>2</th>\n",
              "      <td>@seekzisgarb poa mt coisa pra fzr alem show tue</td>\n",
              "    </tr>\n",
              "    <tr>\n",
              "      <th>3</th>\n",
              "      <td>pensei mesma coisa akkakakakakkkakakak confirm...</td>\n",
              "    </tr>\n",
              "    <tr>\n",
              "      <th>4</th>\n",
              "      <td>coisa linda https t co/tdhc42gyyc</td>\n",
              "    </tr>\n",
              "  </tbody>\n",
              "</table>\n",
              "</div>"
            ],
            "text/plain": [
              "                                                text\n",
              "0  nunca lido ansiedade medo d faze alguma coisa ...\n",
              "1                                  fiz alguma coisa \n",
              "2   @seekzisgarb poa mt coisa pra fzr alem show tue \n",
              "3  pensei mesma coisa akkakakakakkkakakak confirm...\n",
              "4                 coisa linda https t co/tdhc42gyyc "
            ]
          },
          "execution_count": 4,
          "metadata": {},
          "output_type": "execute_result"
        }
      ],
      "source": [
        "df_neutro.head()"
      ]
    },
    {
      "cell_type": "code",
      "execution_count": null,
      "id": "0f84c916",
      "metadata": {
        "id": "0f84c916"
      },
      "outputs": [],
      "source": [
        "df_neutro.insert(1, 'classe', 0)"
      ]
    },
    {
      "cell_type": "code",
      "execution_count": null,
      "id": "7b011412",
      "metadata": {
        "id": "7b011412"
      },
      "outputs": [],
      "source": [
        "import numpy as np\n",
        "\n",
        "from sklearn.naive_bayes import MultinomialNB\n",
        "\n",
        "from sklearn.feature_extraction.text import CountVectorizer\n",
        "from sklearn.model_selection import train_test_split"
      ]
    },
    {
      "cell_type": "code",
      "execution_count": null,
      "id": "d17846d6",
      "metadata": {
        "id": "d17846d6"
      },
      "outputs": [],
      "source": [
        "frames = [df_ofensa, df_neutro]\n",
        "df_geral = pd.concat(frames)"
      ]
    },
    {
      "cell_type": "code",
      "execution_count": null,
      "id": "61b42638",
      "metadata": {
        "id": "61b42638",
        "outputId": "3662609d-9d2d-44a4-ec54-1eaebb5d8b0e"
      },
      "outputs": [
        {
          "data": {
            "text/html": [
              "<div>\n",
              "<style scoped>\n",
              "    .dataframe tbody tr th:only-of-type {\n",
              "        vertical-align: middle;\n",
              "    }\n",
              "\n",
              "    .dataframe tbody tr th {\n",
              "        vertical-align: top;\n",
              "    }\n",
              "\n",
              "    .dataframe thead th {\n",
              "        text-align: right;\n",
              "    }\n",
              "</style>\n",
              "<table border=\"1\" class=\"dataframe\">\n",
              "  <thead>\n",
              "    <tr style=\"text-align: right;\">\n",
              "      <th></th>\n",
              "      <th>text</th>\n",
              "      <th>classe</th>\n",
              "    </tr>\n",
              "  </thead>\n",
              "  <tbody>\n",
              "    <tr>\n",
              "      <th>0</th>\n",
              "      <td>rt @mariama59879065 tvi ficava melhor prolonga...</td>\n",
              "      <td>1</td>\n",
              "    </tr>\n",
              "    <tr>\n",
              "      <th>1</th>\n",
              "      <td>= mang trong minh dong mau lac hong phai cu go...</td>\n",
              "      <td>1</td>\n",
              "    </tr>\n",
              "    <tr>\n",
              "      <th>2</th>\n",
              "      <td>tomamo cu</td>\n",
              "      <td>1</td>\n",
              "    </tr>\n",
              "    <tr>\n",
              "      <th>3</th>\n",
              "      <td>n entendo oq passa cabeca dessas pessoas namor...</td>\n",
              "      <td>1</td>\n",
              "    </tr>\n",
              "    <tr>\n",
              "      <th>4</th>\n",
              "      <td>vai tomar cu professor filho puta</td>\n",
              "      <td>1</td>\n",
              "    </tr>\n",
              "  </tbody>\n",
              "</table>\n",
              "</div>"
            ],
            "text/plain": [
              "                                                text  classe\n",
              "0  rt @mariama59879065 tvi ficava melhor prolonga...       1\n",
              "1  = mang trong minh dong mau lac hong phai cu go...       1\n",
              "2                                         tomamo cu        1\n",
              "3  n entendo oq passa cabeca dessas pessoas namor...       1\n",
              "4                 vai tomar cu professor filho puta        1"
            ]
          },
          "execution_count": 8,
          "metadata": {},
          "output_type": "execute_result"
        }
      ],
      "source": [
        "df_geral.head()"
      ]
    },
    {
      "cell_type": "code",
      "execution_count": null,
      "id": "8f38eabf",
      "metadata": {
        "id": "8f38eabf"
      },
      "outputs": [],
      "source": [
        "df_geral = df_geral.sample(frac=1).reset_index(drop=True)"
      ]
    },
    {
      "cell_type": "code",
      "execution_count": null,
      "id": "246a9445",
      "metadata": {
        "id": "246a9445",
        "outputId": "5ae8a152-ee48-4b2d-e5da-3f39380a2cda"
      },
      "outputs": [
        {
          "data": {
            "text/html": [
              "<div>\n",
              "<style scoped>\n",
              "    .dataframe tbody tr th:only-of-type {\n",
              "        vertical-align: middle;\n",
              "    }\n",
              "\n",
              "    .dataframe tbody tr th {\n",
              "        vertical-align: top;\n",
              "    }\n",
              "\n",
              "    .dataframe thead th {\n",
              "        text-align: right;\n",
              "    }\n",
              "</style>\n",
              "<table border=\"1\" class=\"dataframe\">\n",
              "  <thead>\n",
              "    <tr style=\"text-align: right;\">\n",
              "      <th></th>\n",
              "      <th>text</th>\n",
              "      <th>classe</th>\n",
              "    </tr>\n",
              "  </thead>\n",
              "  <tbody>\n",
              "    <tr>\n",
              "      <th>0</th>\n",
              "      <td>sanguessuga hoje vai ser criar pra mim</td>\n",
              "      <td>1</td>\n",
              "    </tr>\n",
              "    <tr>\n",
              "      <th>1</th>\n",
              "      <td>@mister_wolf_0 @pamjiles vieja loca y mentiros...</td>\n",
              "      <td>1</td>\n",
              "    </tr>\n",
              "    <tr>\n",
              "      <th>2</th>\n",
              "      <td>rt @rn_jonathas @euclides_crf todos utilizados...</td>\n",
              "      <td>1</td>\n",
              "    </tr>\n",
              "    <tr>\n",
              "      <th>3</th>\n",
              "      <td>comprei monte coisa shoppe pra fazer surpresa ...</td>\n",
              "      <td>0</td>\n",
              "    </tr>\n",
              "    <tr>\n",
              "      <th>4</th>\n",
              "      <td>coco desgraca corretor sio https t co/rutjgjynqn</td>\n",
              "      <td>1</td>\n",
              "    </tr>\n",
              "  </tbody>\n",
              "</table>\n",
              "</div>"
            ],
            "text/plain": [
              "                                                text  classe\n",
              "0            sanguessuga hoje vai ser criar pra mim        1\n",
              "1  @mister_wolf_0 @pamjiles vieja loca y mentiros...       1\n",
              "2  rt @rn_jonathas @euclides_crf todos utilizados...       1\n",
              "3  comprei monte coisa shoppe pra fazer surpresa ...       0\n",
              "4  coco desgraca corretor sio https t co/rutjgjynqn        1"
            ]
          },
          "execution_count": 10,
          "metadata": {},
          "output_type": "execute_result"
        }
      ],
      "source": [
        "df_geral.head()"
      ]
    },
    {
      "cell_type": "code",
      "execution_count": null,
      "id": "ac14e7fd",
      "metadata": {
        "id": "ac14e7fd"
      },
      "outputs": [],
      "source": [
        "x_train, x_test, y_train, y_test = train_test_split(df_geral.text, df_geral.classe, test_size=0.3)"
      ]
    },
    {
      "cell_type": "code",
      "execution_count": null,
      "id": "1a13fffd",
      "metadata": {
        "id": "1a13fffd"
      },
      "outputs": [],
      "source": [
        "vect = CountVectorizer(ngram_range=(2,2))\n",
        "X_train = vect.fit_transform(x_train)\n",
        "X_test = vect.transform(x_test)"
      ]
    },
    {
      "cell_type": "code",
      "execution_count": null,
      "id": "00553102",
      "metadata": {
        "id": "00553102"
      },
      "outputs": [],
      "source": [
        "mnb = MultinomialNB(alpha =0.2)\n",
        "\n",
        "mnb.fit(X_train,y_train)\n",
        "\n",
        "result= mnb.predict(X_test)"
      ]
    },
    {
      "cell_type": "code",
      "execution_count": null,
      "id": "271f9b29",
      "metadata": {
        "id": "271f9b29",
        "outputId": "56ffcd14-60fa-49f9-a5fa-e89afa68a212"
      },
      "outputs": [
        {
          "data": {
            "text/plain": [
              "0.8925092374874034"
            ]
          },
          "execution_count": 14,
          "metadata": {},
          "output_type": "execute_result"
        }
      ],
      "source": [
        "from sklearn.metrics import accuracy_score\n",
        "accuracy_score(result,y_test)"
      ]
    },
    {
      "cell_type": "code",
      "execution_count": null,
      "id": "402494ba",
      "metadata": {
        "id": "402494ba",
        "outputId": "9c91a8b7-06a8-4d65-dfcf-16b6eb20aab7"
      },
      "outputs": [
        {
          "data": {
            "text/plain": [
              "array([[ 948,   88],\n",
              "       [ 232, 1709]], dtype=int64)"
            ]
          },
          "execution_count": 15,
          "metadata": {},
          "output_type": "execute_result"
        }
      ],
      "source": [
        "from sklearn.metrics import confusion_matrix\n",
        "\n",
        "confusion_matrix(y_test, result)"
      ]
    },
    {
      "cell_type": "code",
      "execution_count": null,
      "id": "8bac386e",
      "metadata": {
        "id": "8bac386e",
        "outputId": "2e60c851-814d-4961-c030-a8fa96c8248c"
      },
      "outputs": [
        {
          "data": {
            "text/plain": [
              "0.9143927233814874"
            ]
          },
          "execution_count": 17,
          "metadata": {},
          "output_type": "execute_result"
        }
      ],
      "source": [
        "from sklearn.metrics import f1_score\n",
        "f1_score(result, y_test)"
      ]
    },
    {
      "cell_type": "code",
      "execution_count": null,
      "id": "de97ebfa",
      "metadata": {
        "id": "de97ebfa",
        "outputId": "f33d2344-773e-405a-d1b6-8204ce9c4edc"
      },
      "outputs": [
        {
          "data": {
            "text/plain": [
              "1    6608\n",
              "0    3314\n",
              "Name: classe, dtype: int64"
            ]
          },
          "execution_count": 16,
          "metadata": {},
          "output_type": "execute_result"
        }
      ],
      "source": [
        "df_geral['classe'].value_counts()"
      ]
    },
    {
      "cell_type": "markdown",
      "id": "ULHg_gbf9DU3",
      "metadata": {
        "id": "ULHg_gbf9DU3"
      },
      "source": [
        "## Criação do modelo com base \"mais\" balanceada e sem a palavra coisa."
      ]
    },
    {
      "cell_type": "code",
      "execution_count": null,
      "id": "RJOhXHmr9CzY",
      "metadata": {
        "id": "RJOhXHmr9CzY"
      },
      "outputs": [],
      "source": [
        "df_ofensa = pd.read_csv('tweets_ofensivos_finais_com_ofensa.csv')\n",
        "df_neutro = pd.read_csv('tweets_neutros_finais_sem_coisa.csv')"
      ]
    },
    {
      "cell_type": "code",
      "execution_count": null,
      "id": "be3Kn3np9Yv3",
      "metadata": {
        "colab": {
          "base_uri": "https://localhost:8080/",
          "height": 206
        },
        "id": "be3Kn3np9Yv3",
        "outputId": "d191c0b2-9b09-4b14-ddd1-3cbe84129aec"
      },
      "outputs": [
        {
          "data": {
            "text/html": [
              "<div>\n",
              "<style scoped>\n",
              "    .dataframe tbody tr th:only-of-type {\n",
              "        vertical-align: middle;\n",
              "    }\n",
              "\n",
              "    .dataframe tbody tr th {\n",
              "        vertical-align: top;\n",
              "    }\n",
              "\n",
              "    .dataframe thead th {\n",
              "        text-align: right;\n",
              "    }\n",
              "</style>\n",
              "<table border=\"1\" class=\"dataframe\">\n",
              "  <thead>\n",
              "    <tr style=\"text-align: right;\">\n",
              "      <th></th>\n",
              "      <th>text</th>\n",
              "    </tr>\n",
              "  </thead>\n",
              "  <tbody>\n",
              "    <tr>\n",
              "      <th>0</th>\n",
              "      <td>rt @mariama59879065 tvi ficava melhor prolonga...</td>\n",
              "    </tr>\n",
              "    <tr>\n",
              "      <th>1</th>\n",
              "      <td>= mang trong minh dong mau lac hong phai cu go...</td>\n",
              "    </tr>\n",
              "    <tr>\n",
              "      <th>2</th>\n",
              "      <td>tomamo cu</td>\n",
              "    </tr>\n",
              "    <tr>\n",
              "      <th>3</th>\n",
              "      <td>n entendo oq passa cabeca dessas pessoas namor...</td>\n",
              "    </tr>\n",
              "    <tr>\n",
              "      <th>4</th>\n",
              "      <td>vai tomar cu professor filho puta</td>\n",
              "    </tr>\n",
              "  </tbody>\n",
              "</table>\n",
              "</div>"
            ],
            "text/plain": [
              "                                                text\n",
              "0  rt @mariama59879065 tvi ficava melhor prolonga...\n",
              "1  = mang trong minh dong mau lac hong phai cu go...\n",
              "2                                         tomamo cu \n",
              "3  n entendo oq passa cabeca dessas pessoas namor...\n",
              "4                 vai tomar cu professor filho puta "
            ]
          },
          "execution_count": 6,
          "metadata": {},
          "output_type": "execute_result"
        }
      ],
      "source": [
        "df_ofensa.head()"
      ]
    },
    {
      "cell_type": "code",
      "execution_count": null,
      "id": "HMAMiOHy9Yph",
      "metadata": {
        "id": "HMAMiOHy9Yph"
      },
      "outputs": [],
      "source": [
        "df_ofensa.insert(1, 'classe', 1)"
      ]
    },
    {
      "cell_type": "code",
      "execution_count": null,
      "id": "0oXMfv9d9YjH",
      "metadata": {
        "colab": {
          "base_uri": "https://localhost:8080/",
          "height": 206
        },
        "id": "0oXMfv9d9YjH",
        "outputId": "8eef8c09-230d-4925-c734-99f35af0a063"
      },
      "outputs": [
        {
          "data": {
            "text/html": [
              "<div>\n",
              "<style scoped>\n",
              "    .dataframe tbody tr th:only-of-type {\n",
              "        vertical-align: middle;\n",
              "    }\n",
              "\n",
              "    .dataframe tbody tr th {\n",
              "        vertical-align: top;\n",
              "    }\n",
              "\n",
              "    .dataframe thead th {\n",
              "        text-align: right;\n",
              "    }\n",
              "</style>\n",
              "<table border=\"1\" class=\"dataframe\">\n",
              "  <thead>\n",
              "    <tr style=\"text-align: right;\">\n",
              "      <th></th>\n",
              "      <th>text</th>\n",
              "    </tr>\n",
              "  </thead>\n",
              "  <tbody>\n",
              "    <tr>\n",
              "      <th>0</th>\n",
              "      <td>fiquei sinal hoje dia todo chego casa surto la...</td>\n",
              "    </tr>\n",
              "    <tr>\n",
              "      <th>1</th>\n",
              "      <td>@haddad_fernando @clagraca honestidade ultima ...</td>\n",
              "    </tr>\n",
              "    <tr>\n",
              "      <th>2</th>\n",
              "      <td>bolsonaro poderia pior presidente toda histori...</td>\n",
              "    </tr>\n",
              "    <tr>\n",
              "      <th>3</th>\n",
              "      <td>q comecar ter consciencia amigos  ter relacao ...</td>\n",
              "    </tr>\n",
              "    <tr>\n",
              "      <th>4</th>\n",
              "      <td>assisti ta lista quero ver  https t co/h7uhvbq...</td>\n",
              "    </tr>\n",
              "  </tbody>\n",
              "</table>\n",
              "</div>"
            ],
            "text/plain": [
              "                                                text\n",
              "0  fiquei sinal hoje dia todo chego casa surto la...\n",
              "1  @haddad_fernando @clagraca honestidade ultima ...\n",
              "2  bolsonaro poderia pior presidente toda histori...\n",
              "3  q comecar ter consciencia amigos  ter relacao ...\n",
              "4  assisti ta lista quero ver  https t co/h7uhvbq..."
            ]
          },
          "execution_count": 8,
          "metadata": {},
          "output_type": "execute_result"
        }
      ],
      "source": [
        "df_neutro.head()"
      ]
    },
    {
      "cell_type": "code",
      "execution_count": null,
      "id": "8Bdd2onx9YdC",
      "metadata": {
        "id": "8Bdd2onx9YdC"
      },
      "outputs": [],
      "source": [
        "df_neutro.insert(1, 'classe', 0)"
      ]
    },
    {
      "cell_type": "code",
      "execution_count": null,
      "id": "Gqdk3yqS9YWX",
      "metadata": {
        "id": "Gqdk3yqS9YWX"
      },
      "outputs": [],
      "source": [
        "frames = [df_ofensa, df_neutro]\n",
        "df_geral = pd.concat(frames)"
      ]
    },
    {
      "cell_type": "code",
      "execution_count": null,
      "id": "ZyYvsORn9YPi",
      "metadata": {
        "colab": {
          "base_uri": "https://localhost:8080/",
          "height": 206
        },
        "id": "ZyYvsORn9YPi",
        "outputId": "9446c1c9-f7b0-49f8-a25d-3f9bf3c356cf"
      },
      "outputs": [
        {
          "data": {
            "text/html": [
              "<div>\n",
              "<style scoped>\n",
              "    .dataframe tbody tr th:only-of-type {\n",
              "        vertical-align: middle;\n",
              "    }\n",
              "\n",
              "    .dataframe tbody tr th {\n",
              "        vertical-align: top;\n",
              "    }\n",
              "\n",
              "    .dataframe thead th {\n",
              "        text-align: right;\n",
              "    }\n",
              "</style>\n",
              "<table border=\"1\" class=\"dataframe\">\n",
              "  <thead>\n",
              "    <tr style=\"text-align: right;\">\n",
              "      <th></th>\n",
              "      <th>text</th>\n",
              "      <th>classe</th>\n",
              "    </tr>\n",
              "  </thead>\n",
              "  <tbody>\n",
              "    <tr>\n",
              "      <th>0</th>\n",
              "      <td>rt @mariama59879065 tvi ficava melhor prolonga...</td>\n",
              "      <td>1</td>\n",
              "    </tr>\n",
              "    <tr>\n",
              "      <th>1</th>\n",
              "      <td>= mang trong minh dong mau lac hong phai cu go...</td>\n",
              "      <td>1</td>\n",
              "    </tr>\n",
              "    <tr>\n",
              "      <th>2</th>\n",
              "      <td>tomamo cu</td>\n",
              "      <td>1</td>\n",
              "    </tr>\n",
              "    <tr>\n",
              "      <th>3</th>\n",
              "      <td>n entendo oq passa cabeca dessas pessoas namor...</td>\n",
              "      <td>1</td>\n",
              "    </tr>\n",
              "    <tr>\n",
              "      <th>4</th>\n",
              "      <td>vai tomar cu professor filho puta</td>\n",
              "      <td>1</td>\n",
              "    </tr>\n",
              "  </tbody>\n",
              "</table>\n",
              "</div>"
            ],
            "text/plain": [
              "                                                text  classe\n",
              "0  rt @mariama59879065 tvi ficava melhor prolonga...       1\n",
              "1  = mang trong minh dong mau lac hong phai cu go...       1\n",
              "2                                         tomamo cu        1\n",
              "3  n entendo oq passa cabeca dessas pessoas namor...       1\n",
              "4                 vai tomar cu professor filho puta        1"
            ]
          },
          "execution_count": 11,
          "metadata": {},
          "output_type": "execute_result"
        }
      ],
      "source": [
        "df_geral.head()"
      ]
    },
    {
      "cell_type": "code",
      "execution_count": null,
      "id": "1nACI6RI-ZTQ",
      "metadata": {
        "id": "1nACI6RI-ZTQ"
      },
      "outputs": [],
      "source": [
        "df_geral = df_geral.sample(frac=1).reset_index(drop=True)"
      ]
    },
    {
      "cell_type": "code",
      "execution_count": null,
      "id": "GmAf8QV29YI4",
      "metadata": {
        "id": "GmAf8QV29YI4"
      },
      "outputs": [],
      "source": [
        "x_train, x_test, y_train, y_test = train_test_split(df_geral.text, df_geral.classe, test_size=0.3)"
      ]
    },
    {
      "cell_type": "code",
      "execution_count": null,
      "id": "od0UQ6nf9YCX",
      "metadata": {
        "id": "od0UQ6nf9YCX"
      },
      "outputs": [],
      "source": [
        "vect = CountVectorizer(ngram_range=(2,2))\n",
        "X_train = vect.fit_transform(x_train)\n",
        "X_test = vect.transform(x_test)"
      ]
    },
    {
      "cell_type": "code",
      "execution_count": null,
      "id": "Qlb5zwOb9X7_",
      "metadata": {
        "id": "Qlb5zwOb9X7_",
        "outputId": "32cabebc-3704-4555-e810-79c3b295601e"
      },
      "outputs": [
        {
          "data": {
            "text/plain": [
              "MultinomialNB(alpha=0.2)"
            ]
          },
          "execution_count": 17,
          "metadata": {},
          "output_type": "execute_result"
        }
      ],
      "source": [
        "mnb = MultinomialNB(alpha =0.2)\n",
        "\n",
        "mnb.fit(X_train,y_train)\n",
        "\n",
        "result= mnb.predict(X_test)"
      ]
    },
    {
      "cell_type": "code",
      "execution_count": null,
      "id": "ZghvTOWn9X05",
      "metadata": {
        "colab": {
          "base_uri": "https://localhost:8080/"
        },
        "id": "ZghvTOWn9X05",
        "outputId": "46de112a-b51f-4f89-b124-f9e2cbcba798"
      },
      "outputs": [
        {
          "ename": "NameError",
          "evalue": "name 'result' is not defined",
          "output_type": "error",
          "traceback": [
            "\u001b[1;31m---------------------------------------------------------------------------\u001b[0m",
            "\u001b[1;31mNameError\u001b[0m                                 Traceback (most recent call last)",
            "\u001b[1;32m<ipython-input-18-116f10302866>\u001b[0m in \u001b[0;36m<module>\u001b[1;34m\u001b[0m\n\u001b[0;32m      1\u001b[0m \u001b[1;32mfrom\u001b[0m \u001b[0msklearn\u001b[0m\u001b[1;33m.\u001b[0m\u001b[0mmetrics\u001b[0m \u001b[1;32mimport\u001b[0m \u001b[0maccuracy_score\u001b[0m\u001b[1;33m\u001b[0m\u001b[1;33m\u001b[0m\u001b[0m\n\u001b[1;32m----> 2\u001b[1;33m \u001b[0maccuracy_score\u001b[0m\u001b[1;33m(\u001b[0m\u001b[0mresult\u001b[0m\u001b[1;33m,\u001b[0m\u001b[0my_test\u001b[0m\u001b[1;33m)\u001b[0m\u001b[1;33m\u001b[0m\u001b[1;33m\u001b[0m\u001b[0m\n\u001b[0m",
            "\u001b[1;31mNameError\u001b[0m: name 'result' is not defined"
          ]
        }
      ],
      "source": [
        "from sklearn.metrics import accuracy_score\n",
        "accuracy_score(result,y_test)"
      ]
    },
    {
      "cell_type": "code",
      "execution_count": null,
      "id": "sjgRQzud9Xtp",
      "metadata": {
        "colab": {
          "base_uri": "https://localhost:8080/"
        },
        "id": "sjgRQzud9Xtp",
        "outputId": "d2fbbf68-fca3-48b5-9120-156511a433f9"
      },
      "outputs": [
        {
          "data": {
            "text/plain": [
              "array([[ 717,  572],\n",
              "       [ 258, 1689]])"
            ]
          },
          "execution_count": 36,
          "metadata": {},
          "output_type": "execute_result"
        }
      ],
      "source": [
        "from sklearn.metrics import confusion_matrix\n",
        "\n",
        "confusion_matrix(y_test, result)"
      ]
    },
    {
      "cell_type": "code",
      "execution_count": null,
      "id": "fgSmeDdB9Xlg",
      "metadata": {
        "colab": {
          "base_uri": "https://localhost:8080/"
        },
        "id": "fgSmeDdB9Xlg",
        "outputId": "151a3bba-e072-449f-e45d-55cbc6e9a279"
      },
      "outputs": [
        {
          "data": {
            "text/plain": [
              "0.8027566539923954"
            ]
          },
          "execution_count": 37,
          "metadata": {},
          "output_type": "execute_result"
        }
      ],
      "source": [
        "from sklearn.metrics import f1_score\n",
        "f1_score(result, y_test)"
      ]
    },
    {
      "cell_type": "code",
      "execution_count": null,
      "id": "f9I7qEaa9Xcv",
      "metadata": {
        "colab": {
          "base_uri": "https://localhost:8080/"
        },
        "id": "f9I7qEaa9Xcv",
        "outputId": "750db0dd-2e4e-4e45-a5d9-a062d8d7565e"
      },
      "outputs": [
        {
          "data": {
            "text/plain": [
              "1    6608\n",
              "0    4178\n",
              "Name: classe, dtype: int64"
            ]
          },
          "execution_count": 31,
          "metadata": {},
          "output_type": "execute_result"
        }
      ],
      "source": [
        "df_geral['classe'].value_counts()"
      ]
    },
    {
      "cell_type": "code",
      "execution_count": null,
      "id": "kC9XzKzy-guI",
      "metadata": {
        "id": "kC9XzKzy-guI"
      },
      "outputs": [],
      "source": [
        "from sklearn.model_selection import cross_val_score\n",
        "\n",
        "scores = cross_val_score(mnb, vect.transform(df_geral['text']), df_geral['classe'], cv=5)"
      ]
    },
    {
      "cell_type": "code",
      "execution_count": null,
      "id": "tDWSbtJmBy5j",
      "metadata": {
        "colab": {
          "base_uri": "https://localhost:8080/"
        },
        "id": "tDWSbtJmBy5j",
        "outputId": "3932afee-257d-48bf-9fc7-615cb8a9a92b"
      },
      "outputs": [
        {
          "data": {
            "text/plain": [
              "0.519655212268782"
            ]
          },
          "execution_count": 20,
          "metadata": {},
          "output_type": "execute_result"
        }
      ],
      "source": [
        "scores.mean()"
      ]
    },
    {
      "cell_type": "code",
      "execution_count": null,
      "id": "546d4561",
      "metadata": {
        "id": "546d4561"
      },
      "outputs": [],
      "source": [
        ""
      ]
    },
    {
      "cell_type": "markdown",
      "source": [
        "## Teste Retirando os tweets com ofensas da base neutra e balanceando as duas bases"
      ],
      "metadata": {
        "id": "4hOsKiLrDaWW"
      },
      "id": "4hOsKiLrDaWW"
    },
    {
      "cell_type": "code",
      "source": [
        "import numpy as np\n",
        "\n",
        "from sklearn.naive_bayes import MultinomialNB\n",
        "\n",
        "from sklearn.feature_extraction.text import CountVectorizer\n",
        "from sklearn.model_selection import train_test_split"
      ],
      "metadata": {
        "id": "b80dttQFDhot"
      },
      "id": "b80dttQFDhot",
      "execution_count": 1,
      "outputs": []
    },
    {
      "cell_type": "code",
      "source": [
        "import pandas as pd\n",
        "df_ofensa = pd.read_csv('tweets_ofensivos_finais_com_ofensa.csv')\n",
        "df_neutro = pd.read_csv('tweets_neutros_finais_sem_coisa_nem_ofensa.csv')"
      ],
      "metadata": {
        "id": "nx1SBy5ZDrQP"
      },
      "id": "nx1SBy5ZDrQP",
      "execution_count": 3,
      "outputs": []
    },
    {
      "cell_type": "code",
      "source": [
        "df_neutro.insert(1, 'classe', 0)\n",
        "df_ofensa.insert(1, 'classe', 1)"
      ],
      "metadata": {
        "id": "iLHxVFwCE-3t"
      },
      "id": "iLHxVFwCE-3t",
      "execution_count": 4,
      "outputs": []
    },
    {
      "cell_type": "code",
      "source": [
        "df_ofensa = df_ofensa.sample(frac=1).reset_index(drop=True)"
      ],
      "metadata": {
        "id": "xZcdizd8JfBO"
      },
      "id": "xZcdizd8JfBO",
      "execution_count": 5,
      "outputs": []
    },
    {
      "cell_type": "code",
      "source": [
        "df_ofensa.head()"
      ],
      "metadata": {
        "colab": {
          "base_uri": "https://localhost:8080/",
          "height": 206
        },
        "id": "OL6JOhuYJybf",
        "outputId": "e97adec2-f448-4bbf-c87e-04adbe82a869"
      },
      "id": "OL6JOhuYJybf",
      "execution_count": 6,
      "outputs": [
        {
          "output_type": "execute_result",
          "data": {
            "text/plain": [
              "                                                text  classe\n",
              "0  @edricblight_b0t ah chinga /se tapa la boca co...       1\n",
              "1  la temporada 2 #lajauria2 es sordida ideologiz...       1\n",
              "2  rt @odeputadobanido vergonhoso premio 1 6 milh...       1\n",
              "3                        @hollowprlple boco zap zap        1\n",
              "4  @drabinskiariel @_loac_lawyer @pawel_zariczny ...       1"
            ],
            "text/html": [
              "\n",
              "  <div id=\"df-a0e60923-159d-4f87-8ca2-a57b897b2bb4\">\n",
              "    <div class=\"colab-df-container\">\n",
              "      <div>\n",
              "<style scoped>\n",
              "    .dataframe tbody tr th:only-of-type {\n",
              "        vertical-align: middle;\n",
              "    }\n",
              "\n",
              "    .dataframe tbody tr th {\n",
              "        vertical-align: top;\n",
              "    }\n",
              "\n",
              "    .dataframe thead th {\n",
              "        text-align: right;\n",
              "    }\n",
              "</style>\n",
              "<table border=\"1\" class=\"dataframe\">\n",
              "  <thead>\n",
              "    <tr style=\"text-align: right;\">\n",
              "      <th></th>\n",
              "      <th>text</th>\n",
              "      <th>classe</th>\n",
              "    </tr>\n",
              "  </thead>\n",
              "  <tbody>\n",
              "    <tr>\n",
              "      <th>0</th>\n",
              "      <td>@edricblight_b0t ah chinga /se tapa la boca co...</td>\n",
              "      <td>1</td>\n",
              "    </tr>\n",
              "    <tr>\n",
              "      <th>1</th>\n",
              "      <td>la temporada 2 #lajauria2 es sordida ideologiz...</td>\n",
              "      <td>1</td>\n",
              "    </tr>\n",
              "    <tr>\n",
              "      <th>2</th>\n",
              "      <td>rt @odeputadobanido vergonhoso premio 1 6 milh...</td>\n",
              "      <td>1</td>\n",
              "    </tr>\n",
              "    <tr>\n",
              "      <th>3</th>\n",
              "      <td>@hollowprlple boco zap zap</td>\n",
              "      <td>1</td>\n",
              "    </tr>\n",
              "    <tr>\n",
              "      <th>4</th>\n",
              "      <td>@drabinskiariel @_loac_lawyer @pawel_zariczny ...</td>\n",
              "      <td>1</td>\n",
              "    </tr>\n",
              "  </tbody>\n",
              "</table>\n",
              "</div>\n",
              "      <button class=\"colab-df-convert\" onclick=\"convertToInteractive('df-a0e60923-159d-4f87-8ca2-a57b897b2bb4')\"\n",
              "              title=\"Convert this dataframe to an interactive table.\"\n",
              "              style=\"display:none;\">\n",
              "        \n",
              "  <svg xmlns=\"http://www.w3.org/2000/svg\" height=\"24px\"viewBox=\"0 0 24 24\"\n",
              "       width=\"24px\">\n",
              "    <path d=\"M0 0h24v24H0V0z\" fill=\"none\"/>\n",
              "    <path d=\"M18.56 5.44l.94 2.06.94-2.06 2.06-.94-2.06-.94-.94-2.06-.94 2.06-2.06.94zm-11 1L8.5 8.5l.94-2.06 2.06-.94-2.06-.94L8.5 2.5l-.94 2.06-2.06.94zm10 10l.94 2.06.94-2.06 2.06-.94-2.06-.94-.94-2.06-.94 2.06-2.06.94z\"/><path d=\"M17.41 7.96l-1.37-1.37c-.4-.4-.92-.59-1.43-.59-.52 0-1.04.2-1.43.59L10.3 9.45l-7.72 7.72c-.78.78-.78 2.05 0 2.83L4 21.41c.39.39.9.59 1.41.59.51 0 1.02-.2 1.41-.59l7.78-7.78 2.81-2.81c.8-.78.8-2.07 0-2.86zM5.41 20L4 18.59l7.72-7.72 1.47 1.35L5.41 20z\"/>\n",
              "  </svg>\n",
              "      </button>\n",
              "      \n",
              "  <style>\n",
              "    .colab-df-container {\n",
              "      display:flex;\n",
              "      flex-wrap:wrap;\n",
              "      gap: 12px;\n",
              "    }\n",
              "\n",
              "    .colab-df-convert {\n",
              "      background-color: #E8F0FE;\n",
              "      border: none;\n",
              "      border-radius: 50%;\n",
              "      cursor: pointer;\n",
              "      display: none;\n",
              "      fill: #1967D2;\n",
              "      height: 32px;\n",
              "      padding: 0 0 0 0;\n",
              "      width: 32px;\n",
              "    }\n",
              "\n",
              "    .colab-df-convert:hover {\n",
              "      background-color: #E2EBFA;\n",
              "      box-shadow: 0px 1px 2px rgba(60, 64, 67, 0.3), 0px 1px 3px 1px rgba(60, 64, 67, 0.15);\n",
              "      fill: #174EA6;\n",
              "    }\n",
              "\n",
              "    [theme=dark] .colab-df-convert {\n",
              "      background-color: #3B4455;\n",
              "      fill: #D2E3FC;\n",
              "    }\n",
              "\n",
              "    [theme=dark] .colab-df-convert:hover {\n",
              "      background-color: #434B5C;\n",
              "      box-shadow: 0px 1px 3px 1px rgba(0, 0, 0, 0.15);\n",
              "      filter: drop-shadow(0px 1px 2px rgba(0, 0, 0, 0.3));\n",
              "      fill: #FFFFFF;\n",
              "    }\n",
              "  </style>\n",
              "\n",
              "      <script>\n",
              "        const buttonEl =\n",
              "          document.querySelector('#df-a0e60923-159d-4f87-8ca2-a57b897b2bb4 button.colab-df-convert');\n",
              "        buttonEl.style.display =\n",
              "          google.colab.kernel.accessAllowed ? 'block' : 'none';\n",
              "\n",
              "        async function convertToInteractive(key) {\n",
              "          const element = document.querySelector('#df-a0e60923-159d-4f87-8ca2-a57b897b2bb4');\n",
              "          const dataTable =\n",
              "            await google.colab.kernel.invokeFunction('convertToInteractive',\n",
              "                                                     [key], {});\n",
              "          if (!dataTable) return;\n",
              "\n",
              "          const docLinkHtml = 'Like what you see? Visit the ' +\n",
              "            '<a target=\"_blank\" href=https://colab.research.google.com/notebooks/data_table.ipynb>data table notebook</a>'\n",
              "            + ' to learn more about interactive tables.';\n",
              "          element.innerHTML = '';\n",
              "          dataTable['output_type'] = 'display_data';\n",
              "          await google.colab.output.renderOutput(dataTable, element);\n",
              "          const docLink = document.createElement('div');\n",
              "          docLink.innerHTML = docLinkHtml;\n",
              "          element.appendChild(docLink);\n",
              "        }\n",
              "      </script>\n",
              "    </div>\n",
              "  </div>\n",
              "  "
            ]
          },
          "metadata": {},
          "execution_count": 6
        }
      ]
    },
    {
      "cell_type": "code",
      "source": [
        "df_neutro.count()"
      ],
      "metadata": {
        "colab": {
          "base_uri": "https://localhost:8080/"
        },
        "id": "TdqbExM6J1R-",
        "outputId": "993c78ba-10dd-4802-aa79-a799c27bb599"
      },
      "id": "TdqbExM6J1R-",
      "execution_count": 7,
      "outputs": [
        {
          "output_type": "execute_result",
          "data": {
            "text/plain": [
              "text      2836\n",
              "classe    2836\n",
              "dtype: int64"
            ]
          },
          "metadata": {},
          "execution_count": 7
        }
      ]
    },
    {
      "cell_type": "code",
      "source": [
        "df_ofensa = df_ofensa.iloc[0:2836,:]"
      ],
      "metadata": {
        "id": "ZY25QNmNKfO9"
      },
      "id": "ZY25QNmNKfO9",
      "execution_count": 8,
      "outputs": []
    },
    {
      "cell_type": "code",
      "source": [
        "df_ofensa.count()"
      ],
      "metadata": {
        "colab": {
          "base_uri": "https://localhost:8080/"
        },
        "id": "BsLMYQ8HLLt2",
        "outputId": "befd34bb-3287-4334-f424-c5fd93f5eba3"
      },
      "id": "BsLMYQ8HLLt2",
      "execution_count": 9,
      "outputs": [
        {
          "output_type": "execute_result",
          "data": {
            "text/plain": [
              "text      2836\n",
              "classe    2836\n",
              "dtype: int64"
            ]
          },
          "metadata": {},
          "execution_count": 9
        }
      ]
    },
    {
      "cell_type": "code",
      "source": [
        "frames = [df_ofensa, df_neutro]\n",
        "df_geral = pd.concat(frames)\n",
        "df_geral = df_geral.sample(frac=1).reset_index(drop=True)"
      ],
      "metadata": {
        "id": "AES_W_UvLOWH"
      },
      "id": "AES_W_UvLOWH",
      "execution_count": 10,
      "outputs": []
    },
    {
      "cell_type": "code",
      "source": [
        "df_geral['classe'].value_counts()"
      ],
      "metadata": {
        "colab": {
          "base_uri": "https://localhost:8080/"
        },
        "id": "GRZIreilMlOW",
        "outputId": "9d94930a-6afa-4e9a-95cf-a8f32aee1056"
      },
      "id": "GRZIreilMlOW",
      "execution_count": 11,
      "outputs": [
        {
          "output_type": "execute_result",
          "data": {
            "text/plain": [
              "1    2836\n",
              "0    2836\n",
              "Name: classe, dtype: int64"
            ]
          },
          "metadata": {},
          "execution_count": 11
        }
      ]
    },
    {
      "cell_type": "code",
      "source": [
        "import numpy as np\n",
        "from sklearn.naive_bayes import MultinomialNB\n",
        "from sklearn.feature_extraction.text import CountVectorizer\n",
        "from sklearn.model_selection import train_test_split\n",
        "\n",
        "x_train, x_test, y_train, y_test = train_test_split(df_geral.text, df_geral.classe, test_size=0.3)\n",
        "vect = CountVectorizer(ngram_range=(2,2))\n",
        "X_train = vect.fit_transform(x_train)\n",
        "X_test = vect.transform(x_test)"
      ],
      "metadata": {
        "id": "ns5vSO6IMozc"
      },
      "id": "ns5vSO6IMozc",
      "execution_count": 12,
      "outputs": []
    },
    {
      "cell_type": "code",
      "source": [
        "mnb = MultinomialNB(alpha =0.2)\n",
        "\n",
        "mnb.fit(X_train,y_train)\n",
        "\n",
        "result= mnb.predict(X_test)"
      ],
      "metadata": {
        "id": "LxyIUmlrNM3h"
      },
      "id": "LxyIUmlrNM3h",
      "execution_count": 13,
      "outputs": []
    },
    {
      "cell_type": "code",
      "source": [
        "from sklearn.metrics import accuracy_score\n",
        "accuracy_score(result,y_test)"
      ],
      "metadata": {
        "colab": {
          "base_uri": "https://localhost:8080/"
        },
        "id": "yqIetMkuNRJg",
        "outputId": "40234ed6-b08b-48f7-f38b-2891b4086587"
      },
      "id": "yqIetMkuNRJg",
      "execution_count": 14,
      "outputs": [
        {
          "output_type": "execute_result",
          "data": {
            "text/plain": [
              "0.663337250293772"
            ]
          },
          "metadata": {},
          "execution_count": 14
        }
      ]
    },
    {
      "cell_type": "code",
      "source": [
        "from sklearn.metrics import confusion_matrix\n",
        "\n",
        "confusion_matrix(y_test, result)"
      ],
      "metadata": {
        "colab": {
          "base_uri": "https://localhost:8080/"
        },
        "id": "bfmqW_GZNVQf",
        "outputId": "d8a04d81-6066-4752-84f8-89cc8e038509"
      },
      "id": "bfmqW_GZNVQf",
      "execution_count": 15,
      "outputs": [
        {
          "output_type": "execute_result",
          "data": {
            "text/plain": [
              "array([[788,  61],\n",
              "       [512, 341]])"
            ]
          },
          "metadata": {},
          "execution_count": 15
        }
      ]
    },
    {
      "cell_type": "code",
      "source": [
        "from sklearn.metrics import f1_score\n",
        "f1_score(result, y_test)"
      ],
      "metadata": {
        "colab": {
          "base_uri": "https://localhost:8080/"
        },
        "id": "iTJMDn3tNaHB",
        "outputId": "096a2bc9-eef3-4097-f616-903af476205b"
      },
      "id": "iTJMDn3tNaHB",
      "execution_count": 16,
      "outputs": [
        {
          "output_type": "execute_result",
          "data": {
            "text/plain": [
              "0.543426294820717"
            ]
          },
          "metadata": {},
          "execution_count": 16
        }
      ]
    },
    {
      "cell_type": "code",
      "source": [
        "from sklearn.model_selection import cross_val_score\n",
        "\n",
        "scores = cross_val_score(mnb, vect.transform(df_geral['text']), df_geral['classe'], cv=5)\n",
        "scores.mean()"
      ],
      "metadata": {
        "colab": {
          "base_uri": "https://localhost:8080/"
        },
        "id": "RiE91FLCNgZ_",
        "outputId": "fa83ce53-24f4-4f34-a106-3a96d7244c61"
      },
      "id": "RiE91FLCNgZ_",
      "execution_count": 17,
      "outputs": [
        {
          "output_type": "execute_result",
          "data": {
            "text/plain": [
              "0.6135415549806151"
            ]
          },
          "metadata": {},
          "execution_count": 17
        }
      ]
    }
  ],
  "metadata": {
    "colab": {
      "name": "primeira_perdicao.ipynb",
      "provenance": []
    },
    "kernelspec": {
      "display_name": "Python 3",
      "language": "python",
      "name": "python3"
    },
    "language_info": {
      "codemirror_mode": {
        "name": "ipython",
        "version": 3
      },
      "file_extension": ".py",
      "mimetype": "text/x-python",
      "name": "python",
      "nbconvert_exporter": "python",
      "pygments_lexer": "ipython3",
      "version": "3.8.8"
    }
  },
  "nbformat": 4,
  "nbformat_minor": 5
}